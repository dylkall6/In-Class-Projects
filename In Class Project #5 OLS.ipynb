{
 "cells": [
  {
   "cell_type": "markdown",
   "metadata": {},
   "source": [
    "# In Class Project #5 OLS"
   ]
  },
  {
   "cell_type": "code",
   "execution_count": 2,
   "metadata": {},
   "outputs": [],
   "source": [
    "#stats.py\n",
    "class stats():\n",
    "    def __init__(self):\n",
    "        print(\"You created an instance of stats()\")\n",
    "        \n",
    "    def total(self, list_obj):\n",
    "        total = 0\n",
    "        n = len(list_obj)\n",
    "        for i in range(n):\n",
    "            total += list_obj[i]\n",
    "        return total\n",
    "    \n",
    "    def mean(self, list_obj):\n",
    "        n = len(list_obj)\n",
    "        mean_ = self.total(list_obj) / n\n",
    "        return mean_ \n",
    "    \n",
    "    def median(self, list_obj):\n",
    "        n = len(list_obj)\n",
    "        list_obj = sorted(list_obj)\n",
    "        # lists of even length divided by 2 have a remainder\n",
    "        if n % 2 != 0:\n",
    "            # list length is odd\n",
    "            middle_index = int((n - 1) / 2)\n",
    "            median_ = list_obj[middle_index]\n",
    "        else:\n",
    "            upper_middle_index = int(n / 2)\n",
    "            lower_middle_index = upper_middle_index - 1\n",
    "            # pass slice with two middle values to self.mean()\n",
    "            median_ = self.mean(list_obj[lower_middle_index : upper_middle_index + 1])\n",
    "        \n",
    "        return median_\n",
    "    \n",
    "    def mode(self, list_obj):\n",
    "        # use to record value(s) that appear most times\n",
    "        max_count = 0\n",
    "        # use to count occurrences of each value in list\n",
    "        counter_dict = {}\n",
    "        for value in list_obj:\n",
    "            # count for each value should start at 0\n",
    "            counter_dict[value] = 0\n",
    "        for value in list_obj:\n",
    "            # add on to the count of the value for each occurrence in list_obj\n",
    "            counter_dict[value] += 1\n",
    "        # make a list of the value (not keys) from the dictionary\n",
    "        count_list = list(counter_dict.values())\n",
    "        # and find the max value\n",
    "        max_count = max(count_list)\n",
    "        # use a generator to make a list of the values (keys) whose number of \n",
    "        # occurences in the list match max_count\n",
    "        mode_ = [key for key in counter_dict if counter_dict[key] == max_count]\n",
    "\n",
    "        return mode_\n",
    "    \n",
    "    def variance(self, list_obj, sample = False):\n",
    "\n",
    "        # popvar(list) = sum((xi - list_mean)**2) / n for all xi in list\n",
    "        # save mean value of list\n",
    "        list_mean = self.mean(list_obj)\n",
    "        # use n to calculate average of sum squared diffs\n",
    "        n = len(list_obj)\n",
    "        # create value we can add squared diffs to\n",
    "        sum_sq_diff = 0\n",
    "        for val in list_obj:\n",
    "            # adds each squared diff to sum_sq_diff\n",
    "            sum_sq_diff += (val - list_mean) ** 2\n",
    "        if sample == False:\n",
    "            # normalize result by dividing by n\n",
    "            variance_ = sum_sq_diff / n\n",
    "        else:\n",
    "            # for samples, normalize by dividing by (n-1)\n",
    "            variance_ = sum_sq_diff / (n - 1)\n",
    "\n",
    "        return variance_\n",
    "    \n",
    "    def SD(self, list_obj, sample = False):\n",
    "        SD_ = self.variance(list_obj, sample) ** (1/2)\n",
    "        \n",
    "        return SD_\n",
    "    \n",
    "    def covariance(self, list_obj1, list_obj2, sample = False):\n",
    "        # determine the mean of each list\n",
    "        mean1 = self.mean(list_obj1)\n",
    "        mean2 = self.mean(list_obj2)\n",
    "        # instantiate a variable holding the value of 0; this will be used to \n",
    "        # sum the values generated in the for loop below\n",
    "        cov = 0\n",
    "        n1 = len(list_obj1)\n",
    "        n2 = len(list_obj2)\n",
    "        # check list lengths are equal\n",
    "        if n1 == n2:\n",
    "            n = n1\n",
    "            # sum the product of the differences\n",
    "            for i in range(n1):\n",
    "                cov += (list_obj1[i] - mean1) * (list_obj2[i] - mean2)\n",
    "            if sample == False:\n",
    "                cov = cov / n\n",
    "            # account for sample by dividing by one less than number of elements in list\n",
    "            else:\n",
    "                cov = cov / (n - 1)\n",
    "            # return covariance\n",
    "            return cov\n",
    "        else:\n",
    "            print(\"List lengths are not equal\")\n",
    "            print(\"List1:\", n1)\n",
    "            print(\"List2:\", n2)\n",
    "\n",
    "    def correlation(self, list_obj1, list_obj2):\n",
    "        # corr(x,y) = cov(x, y) / (SD(x) * SD(y))\n",
    "        cov = self.covariance(list_obj1, list_obj2)\n",
    "        SD1 = self.SD(list_obj1)\n",
    "        SD2 = self.SD(list_obj2)\n",
    "        corr = cov / (SD1 * SD2)\n",
    "        \n",
    "        return corr\n",
    "    \n",
    "    def skewness(self, list_obj, sample = False):\n",
    "        mean_ = self.mean(list_obj)\n",
    "        SD_ = self.SD(list_obj, sample)\n",
    "        skew = 0\n",
    "        n = len(list_obj)\n",
    "        for val in list_obj:\n",
    "            skew += (val - mean_) ** 3\n",
    "            skew = skew / n if not sample else n * skew / ((n - 1)*(n - 1) * SD_ ** 3)\n",
    "\n",
    "        return skew\n",
    "    \n",
    "    def kurtosis(self, list_obj, sample = False):\n",
    "        mean_ = self.mean(list_obj)\n",
    "        kurt = 0\n",
    "        SD_ = self.SD(list_obj, sample)\n",
    "        n = len(list_obj)\n",
    "        for x in list_obj:\n",
    "            kurt += (x - mean_) ** 4\n",
    "        kurt = kurt / (n * SD_ ** 4) if not sample else  n * (n + 1) * kurt / \\\n",
    "        ((n - 1) * (n - 2) * (SD_ ** 4)) - (3 *(n - 1) ** 2) / ((n - 2) * (n - 3))\n",
    "\n",
    "        return kurt"
   ]
  },
  {
   "cell_type": "markdown",
   "metadata": {},
   "source": [
    "# Creating an OLS function in python\n",
    "\n",
    "# Linear Algerbra in Numpy\n",
    "\n",
    "Reviewd chapter 7 to understand hwo to generate an inverse matrix\n",
    "\n",
    "To transform matrix $x$ into $X*(-1)$ to do so, we must transform $(XI)$ into $[IX*(-1)]$. This is done in chapter 7 in the textbook. "
   ]
  },
  {
   "cell_type": "code",
   "execution_count": 6,
   "metadata": {},
   "outputs": [
    {
     "name": "stdout",
     "output_type": "stream",
     "text": [
      "Array 1:\n",
      "[1 2 1]\n",
      "Array 2:\n",
      "[4 1 5]\n",
      "Array 3:\n",
      "[6 8 6]\n"
     ]
    }
   ],
   "source": [
    "#invertMatrix.py\n",
    "import numpy as np\n",
    "# create array to be transformed into vectors\n",
    "x1 = np.array([1,2,1])\n",
    "x2 = np.array([4,1,5])\n",
    "x3 = np.array([6,8,6])\n",
    "# Print Data for each array\n",
    "print(\"Array 1:\", x1, sep=\"\\n\")\n",
    "print(\"Array 2:\", x2, sep=\"\\n\")\n",
    "print(\"Array 3:\", x3, sep=\"\\n\")"
   ]
  },
  {
   "cell_type": "code",
   "execution_count": 12,
   "metadata": {},
   "outputs": [
    {
     "name": "stdout",
     "output_type": "stream",
     "text": [
      "Vector 1\n",
      "[[1 2 1]]\n",
      "Vector 2\n",
      "[[4 1 5]]\n",
      "Vector 3\n",
      "[[6 8 6]]\n"
     ]
    }
   ],
   "source": [
    "x1 = np.matrix(x1)\n",
    "x2 = np.matrix(x2)\n",
    "x3 = np.matrix(x3)\n",
    "print(\"Vector 1\", x1, sep=\"\\n\")\n",
    "print(\"Vector 2\", x2, sep=\"\\n\")\n",
    "print(\"Vector 3\", x3, sep=\"\\n\")"
   ]
  },
  {
   "cell_type": "markdown",
   "metadata": {},
   "source": [
    "Join x1, x2, and x3 using _np.concatenate()_. We define axis = 0 so that rows are stacked vetically, not horizontally. "
   ]
  },
  {
   "cell_type": "code",
   "execution_count": 16,
   "metadata": {},
   "outputs": [
    {
     "name": "stdout",
     "output_type": "stream",
     "text": [
      "X:\n",
      "[[1 2 1]\n",
      " [4 1 5]\n",
      " [6 8 6]]\n"
     ]
    }
   ],
   "source": [
    "X = np.concatenate((x1, x2, x3), axis = 0)\n",
    "print(\"X:\", X, sep=\"\\n\")"
   ]
  },
  {
   "cell_type": "markdown",
   "metadata": {},
   "source": [
    "Now that we have defined our $x$ matrix we can generate $x*(-1)$ by using $x$ get()."
   ]
  },
  {
   "cell_type": "code",
   "execution_count": 18,
   "metadata": {},
   "outputs": [
    {
     "name": "stdout",
     "output_type": "stream",
     "text": [
      "X Inverse:\n",
      "[[-8.5000000e+00 -1.0000000e+00  2.2500000e+00]\n",
      " [ 1.5000000e+00 -7.6861594e-17 -2.5000000e-01]\n",
      " [ 6.5000000e+00  1.0000000e+00 -1.7500000e+00]]\n"
     ]
    }
   ],
   "source": [
    "X_inverse = X.getI()\n",
    "print(\"X Inverse:\", X_inverse, sep = \"\\n\")"
   ]
  },
  {
   "cell_type": "markdown",
   "metadata": {},
   "source": [
    "Use _np.round() method to summarize data better. "
   ]
  },
  {
   "cell_type": "code",
   "execution_count": 20,
   "metadata": {},
   "outputs": [
    {
     "name": "stdout",
     "output_type": "stream",
     "text": [
      "X Inverse:\n",
      "[[-8.5  -1.    2.25]\n",
      " [ 1.5  -0.   -0.25]\n",
      " [ 6.5   1.   -1.75]]\n"
     ]
    }
   ],
   "source": [
    "X_inverse = np.round(X.getI(), 2)\n",
    "print(\"X Inverse:\", X_inverse, sep = \"\\n\")"
   ]
  },
  {
   "cell_type": "markdown",
   "metadata": {},
   "source": [
    "Finally, we should also see how to generate the transpose of a matrix. The transpose switches the index valies i and j."
   ]
  },
  {
   "cell_type": "code",
   "execution_count": 27,
   "metadata": {},
   "outputs": [
    {
     "name": "stdout",
     "output_type": "stream",
     "text": [
      "X:\n",
      "[[1 2 1]\n",
      " [4 1 5]\n",
      " [6 8 6]]\n",
      "X Transpose:\n",
      "[[1 4 6]\n",
      " [2 1 8]\n",
      " [1 5 6]]\n"
     ]
    }
   ],
   "source": [
    "print(\"X:\", X, sep = \"\\n\")\n",
    "X_transpose = X.getT()\n",
    "print(\"X Transpose:\", X_transpose, sep = \"\\n\")"
   ]
  },
  {
   "cell_type": "markdown",
   "metadata": {},
   "source": [
    "### Building an OLS Regression Function "
   ]
  },
  {
   "cell_type": "markdown",
   "metadata": {},
   "source": [
    "### Diversion on Classes in PYthon\n",
    "\n",
    "Create a sample class that contains math functions"
   ]
  },
  {
   "cell_type": "code",
   "execution_count": null,
   "metadata": {},
   "outputs": [],
   "source": []
  }
 ],
 "metadata": {
  "kernelspec": {
   "display_name": "Python 3",
   "language": "python",
   "name": "python3"
  },
  "language_info": {
   "codemirror_mode": {
    "name": "ipython",
    "version": 3
   },
   "file_extension": ".py",
   "mimetype": "text/x-python",
   "name": "python",
   "nbconvert_exporter": "python",
   "pygments_lexer": "ipython3",
   "version": "3.8.3"
  }
 },
 "nbformat": 4,
 "nbformat_minor": 4
}
